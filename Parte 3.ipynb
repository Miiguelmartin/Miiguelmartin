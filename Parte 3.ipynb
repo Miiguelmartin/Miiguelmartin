{
  "nbformat": 4,
  "nbformat_minor": 0,
  "metadata": {
    "colab": {
      "name": "Untitled0.ipynb",
      "provenance": [],
      "authorship_tag": "ABX9TyOdJOnbvEpPb4IMKayj8579",
      "include_colab_link": true
    },
    "kernelspec": {
      "name": "python3",
      "display_name": "Python 3"
    },
    "language_info": {
      "name": "python"
    }
  },
  "cells": [
    {
      "cell_type": "markdown",
      "metadata": {
        "id": "view-in-github",
        "colab_type": "text"
      },
      "source": [
        "<a href=\"https://colab.research.google.com/github/Miiguelmartin/Miiguelmartin/blob/main/Parte%203.ipynb\" target=\"_parent\"><img src=\"https://colab.research.google.com/assets/colab-badge.svg\" alt=\"Open In Colab\"/></a>"
      ]
    },
    {
      "cell_type": "code",
      "execution_count": 13,
      "metadata": {
        "colab": {
          "base_uri": "https://localhost:8080/"
        },
        "id": "Eb2hnaMkw-oP",
        "outputId": "b4e246a9-f19b-4de9-cf7a-012f9cf5ac7b"
      },
      "outputs": [
        {
          "output_type": "stream",
          "name": "stdout",
          "text": [
            "Requirement already satisfied: numpy-financial in /usr/local/lib/python3.7/dist-packages (1.0.0)\n",
            "Requirement already satisfied: numpy>=1.15 in /usr/local/lib/python3.7/dist-packages (from numpy-financial) (1.21.5)\n"
          ]
        }
      ],
      "source": [
        "#Parte 3\n",
        "#Instalamos numpy-financial\n",
        "!pip install numpy-financial\n",
        "import numpy_financial as npf\n",
        "#Nombramos los 6 bonos\n",
        "bondA = [-96,100,0,0,0,0]\n",
        "bondB = [-545,50,550,0,0,0]\n",
        "bondC = [-1030,70,70,1070,0,0]\n",
        "bondD = [-2030,150,150,150,2150,0]\n",
        "bondE = [-3920,300,300,300,300,4300]\n",
        "bondX = [0,100,100,100,100,1100]\n",
        "#Sacamos los precios\n",
        "priceA = -bondA[0]\n",
        "priceB = -bondB[0]\n",
        "priceC = -bondC[0]\n",
        "priceD = -bondD[0]\n",
        "priceE = -bondE[0]\n",
        "#Calculamos la tir\n",
        "tirA = npf.irr(bondA)\n",
        "tirB = npf.irr(bondB)\n",
        "tirC = npf.irr(bondC)\n",
        "tirD = npf.irr(bondD)\n",
        "tirE = npf.irr(bondE)\n",
        "#Sacamos la curva de rendimientos\n",
        "yieldcurve = [tirA,0,0,0,0]\n",
        "#Hacemos la ETTI genérica en la que podemos sustituir año y bono \n",
        "def calculate_yc(bond,yieldcurve ):\n",
        "    n = [i for i, e in enumerate(bond) if e != 0][-1]\n",
        "    ultimo_flujo = bond[n]\n",
        "    price = -bond[0]\n",
        "    fcid = 0\n",
        "    for i in range(1,n):\n",
        "        fcid += bond[i] / (1+yieldcurve[i-1])**i\n",
        "    return (ultimo_flujo / (price - fcid))**(1/n)-1\n",
        "#Calculamos las curvas de rendimiento\n",
        "yieldcurve[1] = calculate_yc(bondB, yieldcurve)\n",
        "yieldcurve[2] = calculate_yc(bondC, yieldcurve)\n",
        "yieldcurve[3] = calculate_yc(bondD, yieldcurve)\n",
        "yieldcurve[4] = calculate_yc(bondE, yieldcurve)\n",
        "#Sacamos el último bono\n",
        "def cal_price(flujos, interés):\n",
        "    precio = 0\n",
        "    for i in range(1, len(flujos)):\n",
        "        precio += flujos[i] * (1+interés[i-1])**-i\n",
        "    return precio\n",
        "#Sacamos el precio de X\n",
        "precioX = cal_price(bondX, yieldcurve)\n",
        "#El coste de X en 0\n",
        "bondX[0] = -precioX\n",
        "#Y por último la Tir de X\n",
        "tirX = npf.irr(bondX)"
      ]
    }
  ]
}